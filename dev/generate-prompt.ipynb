{
 "cells": [
  {
   "cell_type": "markdown",
   "metadata": {},
   "source": [
    "# Generate Prompt"
   ]
  },
  {
   "cell_type": "code",
   "execution_count": 28,
   "metadata": {},
   "outputs": [],
   "source": [
    "import pandas as pd\n",
    "from _utils import read_markdown_file, write_markdown_file"
   ]
  },
  {
   "cell_type": "markdown",
   "metadata": {},
   "source": [
    "### Read CSV"
   ]
  },
  {
   "cell_type": "code",
   "execution_count": 29,
   "metadata": {},
   "outputs": [],
   "source": [
    "telephone_df = pd.read_csv(\"../data/TelephoneDepartment.csv\")\n",
    "telephone_tbl_md = telephone_df.to_markdown()"
   ]
  },
  {
   "cell_type": "markdown",
   "metadata": {},
   "source": [
    "### Read Prompt"
   ]
  },
  {
   "cell_type": "code",
   "execution_count": 30,
   "metadata": {},
   "outputs": [],
   "source": [
    "prompt_temp_str = read_markdown_file(\"../prompt/_phone-pr-temp.md\")\n",
    "prompt_str = prompt_temp_str.format(telephone_tbl_md = telephone_tbl_md)"
   ]
  },
  {
   "cell_type": "code",
   "execution_count": 31,
   "metadata": {},
   "outputs": [
    {
     "name": "stdout",
     "output_type": "stream",
     "text": [
      "You are \"PhoneBookGPT\", an assistant for searching hospital telephone number. Use the following PhoneBook to answer doctor request.\n",
      "\n",
      "PhoneBook:\n",
      "|    | Building   | Floor   | CodeName         | Description                   | Telephone                           |\n",
      "|---:|:-----------|:--------|:-------\n"
     ]
    }
   ],
   "source": [
    "print(prompt_str[0:300])"
   ]
  },
  {
   "cell_type": "markdown",
   "metadata": {},
   "source": [
    "### Write Prompt"
   ]
  },
  {
   "cell_type": "code",
   "execution_count": 32,
   "metadata": {},
   "outputs": [
    {
     "name": "stdout",
     "output_type": "stream",
     "text": [
      "Content successfully written to ../prompt/phone-pr.md\n"
     ]
    }
   ],
   "source": [
    "write_markdown_file(prompt_str, \"../prompt/phone-pr.md\")"
   ]
  }
 ],
 "metadata": {
  "kernelspec": {
   "display_name": "Python 3",
   "language": "python",
   "name": "python3"
  },
  "language_info": {
   "codemirror_mode": {
    "name": "ipython",
    "version": 3
   },
   "file_extension": ".py",
   "mimetype": "text/x-python",
   "name": "python",
   "nbconvert_exporter": "python",
   "pygments_lexer": "ipython3",
   "version": "3.10.10"
  }
 },
 "nbformat": 4,
 "nbformat_minor": 2
}
